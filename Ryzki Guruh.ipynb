{
 "cells": [
  {
   "cell_type": "markdown",
   "metadata": {},
   "source": [
    "# TUGAS 1 METODE KOMPUTASI\n",
    "\n",
    "## Sebutkan 3 jenis tipe variabel di dalam Python\n",
    "    Jawab: Tipe Variable dalam python yaitu teks(string),number(float,integer),dan boolean.\n",
    "    \n",
    "## Jelaskan mengapa di Python ada aturan Indentation?\n",
    "    Jawab: Indentation berfungsi sebagai identitas dari blok tersebut sehingga blok tersebut diketahui milik blok yang mana."
   ]
  },
  {
   "cell_type": "markdown",
   "metadata": {},
   "source": []
  },
  {
   "cell_type": "code",
   "execution_count": null,
   "metadata": {},
   "outputs": [],
   "source": [
    "x= int(input(\"Enter a number: \"))\n",
    "y = x%2\n",
    "if y == 0:\n",
    "        print(\"Angka Genap\")\n",
    "else:\n",
    "        print(\"Angka Ganjil\")"
   ]
  },
  {
   "cell_type": "code",
   "execution_count": null,
   "metadata": {},
   "outputs": [],
   "source": []
  }
 ],
 "metadata": {
  "kernelspec": {
   "display_name": "Python 3",
   "language": "python",
   "name": "python3"
  },
  "language_info": {
   "codemirror_mode": {
    "name": "ipython",
    "version": 3
   },
   "file_extension": ".py",
   "mimetype": "text/x-python",
   "name": "python",
   "nbconvert_exporter": "python",
   "pygments_lexer": "ipython3",
   "version": "3.7.1"
  }
 },
 "nbformat": 4,
 "nbformat_minor": 2
}
